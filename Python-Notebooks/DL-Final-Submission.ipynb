{
  "nbformat": 4,
  "nbformat_minor": 0,
  "metadata": {
    "colab": {
      "name": "DL_Final_Submission_.ipynb",
      "provenance": [],
      "collapsed_sections": [
        "pW_cKgm1BCGx",
        "ZzhnezfxB_fJ",
        "qtil23NlDTxc",
        "JJnizlzxEnR7",
        "YgBJrIhoFjBV",
        "i6ByfvGZS1yR",
        "8EO6OI7D_W94",
        "XHQcjR9sMp3Q",
        "O5pu74rEHblO",
        "rmWpQsuuI_MY",
        "MOSFXFvGKY89",
        "odUg_ENMOYiZ",
        "KckT8SgWOaFD",
        "ePXQQqzWLvOx"
      ]
    },
    "kernelspec": {
      "name": "python3",
      "display_name": "Python 3"
    },
    "language_info": {
      "name": "python"
    },
    "accelerator": "GPU"
  },
  "cells": [
    {
      "cell_type": "code",
      "source": [
        "!pip install fairlearn"
      ],
      "metadata": {
        "colab": {
          "base_uri": "https://localhost:8080/"
        },
        "id": "wmjUHRZGl9U_",
        "outputId": "061e6348-99bb-41fb-aa13-23300a1096fe"
      },
      "execution_count": null,
      "outputs": [
        {
          "output_type": "stream",
          "name": "stdout",
          "text": [
            "Requirement already satisfied: fairlearn in /usr/local/lib/python3.7/dist-packages (0.7.0)\n",
            "Requirement already satisfied: pandas>=0.25.1 in /usr/local/lib/python3.7/dist-packages (from fairlearn) (1.3.5)\n",
            "Requirement already satisfied: scipy>=1.4.1 in /usr/local/lib/python3.7/dist-packages (from fairlearn) (1.4.1)\n",
            "Requirement already satisfied: numpy>=1.17.2 in /usr/local/lib/python3.7/dist-packages (from fairlearn) (1.21.6)\n",
            "Requirement already satisfied: scikit-learn>=0.22.1 in /usr/local/lib/python3.7/dist-packages (from fairlearn) (1.0.2)\n",
            "Requirement already satisfied: pytz>=2017.3 in /usr/local/lib/python3.7/dist-packages (from pandas>=0.25.1->fairlearn) (2022.1)\n",
            "Requirement already satisfied: python-dateutil>=2.7.3 in /usr/local/lib/python3.7/dist-packages (from pandas>=0.25.1->fairlearn) (2.8.2)\n",
            "Requirement already satisfied: six>=1.5 in /usr/local/lib/python3.7/dist-packages (from python-dateutil>=2.7.3->pandas>=0.25.1->fairlearn) (1.15.0)\n",
            "Requirement already satisfied: threadpoolctl>=2.0.0 in /usr/local/lib/python3.7/dist-packages (from scikit-learn>=0.22.1->fairlearn) (3.1.0)\n",
            "Requirement already satisfied: joblib>=0.11 in /usr/local/lib/python3.7/dist-packages (from scikit-learn>=0.22.1->fairlearn) (1.1.0)\n"
          ]
        }
      ]
    },
    {
      "cell_type": "markdown",
      "source": [
        "# Report and Github\n",
        "\n",
        "Report link-https://docs.google.com/document/d/1kv64p3u_sRrKA1fQ0dyxrMp5cB4usSAw0QgYViIGTug/edit?usp=sharing\n",
        "\n",
        "Github repo-https://github.com/mrudul2019/DL-PROJ-RNF"
      ],
      "metadata": {
        "id": "YCiNktfF2yys"
      }
    },
    {
      "cell_type": "markdown",
      "source": [
        "# Imports and other stuff"
      ],
      "metadata": {
        "id": "i6ByfvGZS1yR"
      }
    },
    {
      "cell_type": "code",
      "source": [
        "import torch\n",
        "import torch.nn as nn\n",
        "from torch import optim\n",
        "import time, random\n",
        "from tqdm import tqdm\n",
        "from torchtext import data\n",
        "import numpy as np\n",
        "import argparse\n",
        "import torch.nn.functional as F\n",
        "from torch.utils.data import Dataset,DataLoader\n",
        "import pandas as pd\n",
        "from torch.autograd import Variable\n",
        "from torch.autograd import grad\n",
        "\n",
        "import os\n",
        "import tempfile\n",
        "import pandas as pd\n",
        "import six.moves.urllib as urllib\n",
        "import numpy as np\n",
        "import pandas as pd\n",
        "\n",
        "torch.set_num_threads(8)\n",
        "torch.manual_seed(1)\n",
        "random.seed(1)"
      ],
      "metadata": {
        "id": "47XSFMTI4UiY"
      },
      "execution_count": null,
      "outputs": []
    },
    {
      "cell_type": "markdown",
      "source": [
        "# Fetching and Preparing the Data"
      ],
      "metadata": {
        "id": "8EO6OI7D_W94"
      }
    },
    {
      "cell_type": "code",
      "source": [
        "#importing the data\n",
        "_DATA_ROOT = tempfile.mkdtemp(prefix='lsat-data')\n",
        "_DATA_PATH = 'https://storage.googleapis.com/lawschool_dataset/bar_pass_prediction.csv'\n",
        "\n",
        "data = urllib.request.urlopen(_DATA_PATH)\n",
        "\n",
        "lsatdf = pd.read_csv(data)\n",
        "#filtering the dataset to few a important columns as our main objective is to study fairness\n",
        "_COLUMN_NAMES = [\n",
        "  'dnn_bar_pass_prediction',\n",
        "  'gender',\n",
        "  'lsat',\n",
        "  'pass_bar',\n",
        "  'race1',\n",
        "  'ugpa',\n",
        "]\n",
        "\n",
        "lsatdf['gender'] = lsatdf['gender'].astype(str)\n",
        "lsatdf['race1'] = lsatdf['race1'].astype(str)\n",
        "lsatdf = lsatdf[_COLUMN_NAMES]\n",
        "\n",
        "# encoding male as 1 and female as 0\n",
        "lsatdf['gender'].replace({'female': 0, 'male':1}, inplace=True)\n",
        "\n",
        "# converting regression type to classification by taking all values above threshold(3) as 1 else 0\n",
        "lsatdf['ugpa']=lsatdf['ugpa']>3\n",
        "lsatdf['ugpa'].replace({True: 1, False:0}, inplace=True)\n",
        "\n",
        "# one-hot encoding race feature\n",
        "lsatdf=pd.get_dummies(lsatdf,columns=['race1'])\n",
        "# Removing NAN values\n",
        "lsatdf=lsatdf.dropna()\n",
        "\n",
        "lsatdf=lsatdf[['dnn_bar_pass_prediction',\n",
        " 'gender',\n",
        " 'lsat',\n",
        " 'pass_bar',\n",
        " 'race1_asian',\n",
        " 'race1_black',\n",
        " 'race1_hisp',\n",
        " 'race1_nan',\n",
        " 'race1_other',\n",
        " 'race1_white','ugpa']]\n",
        "lsatdf=lsatdf[lsatdf['gender']!='nan']\n",
        "lsatdf.reset_index(inplace = True)\n",
        "lsatdf=lsatdf.drop(['index'], axis=1)\n",
        "\n",
        "# Normalizing the features\n",
        "from sklearn.preprocessing import StandardScaler\n",
        "cols = ['dnn_bar_pass_prediction','lsat','pass_bar','race1_asian','race1_black','race1_hisp','race1_nan','race1_other','race1_white']\n",
        "\n",
        "scaler = StandardScaler().fit(lsatdf[cols].values)\n",
        "features = scaler.transform(lsatdf[cols].values)\n",
        "lsatdf[cols] = features\n",
        "\n",
        "\n",
        "\n",
        "# Splitting dataset to train, validation and test set\n",
        "def train_validate_test_split(df, train_percent=.6, validate_percent=.2, seed=None):\n",
        "    np.random.seed(seed)\n",
        "    perm = np.random.permutation(df.index)\n",
        "    m = len(df.index)\n",
        "    train_end = int(train_percent * m)\n",
        "    validate_end = int(validate_percent * m) + train_end\n",
        "    train = df.iloc[perm[:train_end]]\n",
        "    validate = df.iloc[perm[train_end:validate_end]]\n",
        "    test = df.iloc[perm[validate_end:]]\n",
        "    return train, validate, test\n",
        "\n",
        "train, validate, test = train_validate_test_split(lsatdf)"
      ],
      "metadata": {
        "id": "ve9cgnFn9M6Y"
      },
      "execution_count": null,
      "outputs": []
    },
    {
      "cell_type": "code",
      "source": [
        "class Dataset(Dataset):\n",
        "    #'Characterizes a dataset for PyTorch'\n",
        "    def __init__(self, x, labels, sensitive_attribute):\n",
        "        #'Initialization'\n",
        "        self.x = x\n",
        "        self.labels = labels\n",
        "        self.sensitive_attribute = sensitive_attribute\n",
        "\n",
        "        \n",
        "    def __len__(self):\n",
        "        #'Denotes the total number of samples'\n",
        "        return len(self.labels)\n",
        "    def __getitem__(self, index):\n",
        "        #'Generates one sample of data'\n",
        "        array = np.array(self.x[index])\n",
        "        # type of array before changing\n",
        "        # changing the data type of numpy array using astype() method\n",
        "        array = array.astype(np.float64)\n",
        "        return array, int(self.labels[index]), int(self.sensitive_attribute[index])"
      ],
      "metadata": {
        "id": "DPucXUgvWbIG"
      },
      "execution_count": null,
      "outputs": []
    },
    {
      "cell_type": "code",
      "source": [
        "def load_lawgpa(batch_size):\n",
        "    # For main task, the column number for groud truth is -1. \n",
        "    # For protected attribute gender, the column number is 1\n",
        "    label_index = -1\n",
        "    sensitive_label_index = 1\n",
        "    \n",
        "    train_data = train\n",
        "    \n",
        "    # Note training input still contians the sensitive label\n",
        "    train_x = train_data.values[:, :-1]\n",
        "\n",
        "    # The groundtruth\n",
        "    train_label = train_data.values[:, label_index]\n",
        "    \n",
        "    # Taking sensitive label explicitly to use for the training method of classification head.   \n",
        "    train_sensitive_label = train_data.values[:, sensitive_label_index]\n",
        "\n",
        "    training_set = Dataset(train_x, train_label, train_sensitive_label)\n",
        "    training_generator = DataLoader(training_set, batch_size=batch_size, shuffle=True)\n",
        "\n",
        "    # similarly for validation set\n",
        "    val_data = validate\n",
        "    val_x = val_data.values[:, :-1]\n",
        "    val_label = val_data.values[:, label_index]\n",
        "    val_sensitive_label = val_data.values[:, sensitive_label_index]\n",
        "    val_set = Dataset(val_x, val_label, val_sensitive_label)\n",
        "    val_generator = DataLoader(val_set, batch_size=batch_size)\n",
        "\n",
        "    # similarly for test set\n",
        "    test_data = test\n",
        "    test_x = test_data.values[:, :-1]\n",
        "    test_label = test_data.values[:, label_index]\n",
        "    test_sensitive_label = test_data.values[:, sensitive_label_index]\n",
        "    test_set = Dataset(test_x, test_label, test_sensitive_label)\n",
        "    test_generator = DataLoader(test_set, batch_size=batch_size)\n",
        "    return training_generator, val_generator, test_generator\n"
      ],
      "metadata": {
        "id": "X_3DMxEzTT4F"
      },
      "execution_count": null,
      "outputs": []
    },
    {
      "cell_type": "code",
      "source": [
        "def get_accuracy(truth, pred):\n",
        "    assert len(truth) == len(pred)\n",
        "    right = 0\n",
        "    for i in range(len(truth)):\n",
        "        if truth[i] == pred[i]:\n",
        "            right += 1.0\n",
        "    return right / len(truth)\n"
      ],
      "metadata": {
        "id": "8euwKisasxQL"
      },
      "execution_count": null,
      "outputs": []
    },
    {
      "cell_type": "markdown",
      "source": [
        "# The Model (MLP)"
      ],
      "metadata": {
        "id": "XHQcjR9sMp3Q"
      }
    },
    {
      "cell_type": "code",
      "source": [
        "import torch\n",
        "import torch.nn as nn\n",
        "from torch.autograd import Variable\n",
        "from torch.nn import functional as F\n",
        "\n",
        "\n",
        "# The model learning representation\n",
        "class Net(nn.Module):\n",
        "    def __init__(self, input_size, hidden_size, num_classes):\n",
        "        super(Net, self).__init__()\n",
        "        self.fc1 = nn.Linear(input_size, hidden_size) \n",
        "        self.relu = nn.ReLU()\n",
        "        self.fc1_drop = nn.Dropout(0.2)\n",
        "        self.fc2 = nn.Linear(hidden_size, hidden_size)\n",
        "        self.fc2_drop = nn.Dropout(0.2)\n",
        "        self.fc3 = nn.Linear(hidden_size, num_classes)  \n",
        "    \n",
        "    def forward(self, x):\n",
        "        out = self.fc1(x)\n",
        "        out = self.relu(out)\n",
        "        representation = self.fc1_drop(out)\n",
        "        out = self.fc2(representation)\n",
        "        out = self.relu(out)\n",
        "        out = self.fc2_drop(out)\n",
        "        logit = self.fc3(out)\n",
        "        return logit, representation\n",
        "\n",
        "\n",
        "# The classification head\n",
        "class FC(nn.Module):\n",
        "    def __init__(self, input_size, hidden_size, num_classes):\n",
        "        super(FC, self).__init__()\n",
        "        self.relu = nn.ReLU()\n",
        "        self.fc2 = nn.Linear(hidden_size, hidden_size)\n",
        "        self.fc2_drop = nn.Dropout(0.2)\n",
        "        self.fc3 = nn.Linear(hidden_size, num_classes)  \n",
        "    \n",
        "    def forward(self, x):\n",
        "        out = self.fc2(x)\n",
        "        out = self.relu(out)\n",
        "        out = self.fc2_drop(out)\n",
        "        logit = self.fc3(out)\n",
        "        return logit\n",
        "\n"
      ],
      "metadata": {
        "id": "3FWIim5EEDGa"
      },
      "execution_count": null,
      "outputs": []
    },
    {
      "cell_type": "markdown",
      "source": [
        "# RNF Framework"
      ],
      "metadata": {
        "id": "Xf-BiKyOSwDY"
      }
    },
    {
      "cell_type": "markdown",
      "source": [
        "![image.png](data:image/png;base64,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)"
      ],
      "metadata": {
        "id": "68Uq6yH7dpD-"
      }
    },
    {
      "cell_type": "markdown",
      "source": [
        "> We are not using bias amplified network here because it is required only if annotation of sensitive label is not available so as to create proxy annotation instead.\n",
        "\n",
        "\n",
        "\n",
        "\n"
      ],
      "metadata": {
        "id": "yokmuIGteueT"
      }
    },
    {
      "cell_type": "markdown",
      "source": [
        "## Loss function"
      ],
      "metadata": {
        "id": "O5pu74rEHblO"
      }
    },
    {
      "cell_type": "markdown",
      "source": [
        "![image.png](data:image/png;base64,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)"
      ],
      "metadata": {
        "id": "lzFNtme_ch7D"
      }
    },
    {
      "cell_type": "markdown",
      "source": [
        "![image.png](data:image/png;base64,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)"
      ],
      "metadata": {
        "id": "8nptnoOvdGS1"
      }
    },
    {
      "cell_type": "markdown",
      "source": [
        "![image.png](data:image/png;base64,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)"
      ],
      "metadata": {
        "id": "0amiE5pVc2eV"
      }
    },
    {
      "cell_type": "markdown",
      "source": [
        "## Training Definition"
      ],
      "metadata": {
        "id": "rmWpQsuuI_MY"
      }
    },
    {
      "cell_type": "code",
      "source": [
        "def train_epoch_progress(model, classification_head, train_iter, loss_function, optimizer, optimizer_head, epoch):\n",
        "    \n",
        "    # Doing training as normal\n",
        "    model.train()\n",
        "    classification_head.train()\n",
        "\n",
        "    # If second stage, we want to freeze the model(Teacher Network)\n",
        "    if epoch >= EPOCHS_first_stage:\n",
        "        for param in model.parameters():\n",
        "            param.requires_grad = False\n",
        "        for param in classification_head.parameters():\n",
        "            param.requires_grad = True\n",
        "\n",
        "    avg_loss = 0.0\n",
        "    truth_res = []\n",
        "    pred_res = []\n",
        "    softmax = nn.Softmax(dim=1)\n",
        "    # wrapping in tqdm for fancy progress bar\n",
        "    for batch in tqdm(train_iter, desc='Train epoch '+str(epoch+1)):\n",
        "        # Pre-processing the data\n",
        "        # batch[0], batch[1], batch[2] -> input values, ground truth value, sensitive input value\n",
        "        sent, label, sensitive_label = batch[0], batch[1], batch[2]\n",
        "        sent = sent.type(torch.cuda.FloatTensor)\n",
        "        label = label.type(torch.cuda.LongTensor)\n",
        "        sent = Variable(sent)       \n",
        "        label = Variable(label)\n",
        "        label = label.cpu()\n",
        "        truth_res += list(label.data.numpy())\n",
        "        sensitive_label = Variable(sensitive_label)\n",
        "\n",
        "        # Get probability of the original input from the biased model\n",
        "        sent = sent.cuda()\n",
        "        pred, representation = model(sent)\n",
        "        # A larger temperature prevents the model from assigning over-confident prediction probabilities\n",
        "        # temperature = 1 means standard softmax\n",
        "        pred_softmax = softmax(pred/temperature)\n",
        "        pred_softmax = pred_softmax.cpu()\n",
        "        \n",
        "        \n",
        "        # The first training stage\n",
        "        if epoch < EPOCHS_first_stage:\n",
        "            # Calculating accuracy\n",
        "            pred = F.log_softmax(pred)\n",
        "            pred = pred.cpu()\n",
        "            pred_label = pred.data.max(1)[1].numpy()\n",
        "            pred_res += [x for x in pred_label]\n",
        "\n",
        "            # Update the parameters for the whole model\n",
        "            model.zero_grad()\n",
        "            loss = loss_function(pred, label)\n",
        "            avg_loss += loss.data.item()\n",
        "            loss.backward()\n",
        "            optimizer.step()\n",
        "\n",
        "        # The second training stage\n",
        "        if epoch >= EPOCHS_first_stage:\n",
        "            # Get the interpolated/neutralized features and probablity\n",
        "            neutra_repre_5, neutra_repre_6, neutra_repre_7, neutra_repre_8, neutra_repre_9, neutra_probability5 = feature_neutralization(representation, pred_softmax, label, sensitive_label)       \n",
        "            \n",
        "            # Using knowledge distillation loss as in equation 1\n",
        "            # The neutralized sample is with lambda = 0.5 while others form the augmented ones.\n",
        "            pred_neutra = classification_head(neutra_repre_5)\n",
        "            pred_neutra = softmax(pred_neutra)\n",
        "            pred_neutra = pred_neutra.cpu()\n",
        "            loss = kd_loss_function(neutra_probability5, pred_neutra)\n",
        "            \n",
        "            # Add regularization to smoothen neutralization as is done in equation 3\n",
        "            augmented_list = []\n",
        "            augmented_list.append(neutra_repre_6)\n",
        "            augmented_list.append(neutra_repre_7)\n",
        "            augmented_list.append(neutra_repre_8)\n",
        "            augmented_list.append(neutra_repre_9)\n",
        "            difference_sum = 0\n",
        "            for i in range(4):\n",
        "                pred_augmented = classification_head(augmented_list[i])\n",
        "                pred_augmented = softmax(pred_augmented)\n",
        "                pred_augmented = pred_augmented.cpu()\n",
        "                difference_sum  += torch.abs(pred_augmented - pred_neutra)\n",
        "            \n",
        "            # Linearly combine two losses as is done in equation 4\n",
        "            loss += alpha * torch.sum(difference_sum)\n",
        "            avg_loss += loss.data.item()\n",
        "            \n",
        "            # Calculating accuracy\n",
        "            pred, representation = model(sent)\n",
        "            pred = classification_head(representation)\n",
        "            pred = F.log_softmax(pred)\n",
        "            pred = pred.cpu()\n",
        "            pred_label = pred.data.max(1)[1].numpy()\n",
        "            pred_res += [x for x in pred_label]\n",
        "\n",
        "            # Update the classification head parameters(since it is second stage, we update only the classification head)\n",
        "            classification_head.zero_grad()\n",
        "            loss.backward()\n",
        "            optimizer_head.step()\n",
        "        \n",
        "    avg_loss /= len(train_iter)\n",
        "    acc = get_accuracy(truth_res, pred_res)\n",
        "    return avg_loss, acc\n"
      ],
      "metadata": {
        "id": "NGBX-fu84qSi"
      },
      "execution_count": null,
      "outputs": []
    },
    {
      "cell_type": "markdown",
      "source": [
        "## Feature Neutralization"
      ],
      "metadata": {
        "id": "BPWNvqZiJFJV"
      }
    },
    {
      "cell_type": "markdown",
      "source": [
        "![image.png](data:image/png;base64,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)"
      ],
      "metadata": {
        "id": "p9YPqV78eoi2"
      }
    },
    {
      "cell_type": "code",
      "execution_count": null,
      "metadata": {
        "id": "MBpr1aAh5WSe"
      },
      "outputs": [],
      "source": [
        "# Representation neutralization\n",
        "# Input: representation, prob after temperature scaling, ground truth value, sensitive input value \n",
        "\n",
        "def feature_neutralization(r_batch, p_batch, y_batch, a_batch):\n",
        "  # Category differentiation based on y-label and _bias based on value of sensitive attribute\n",
        "  category1_bias1 = []\n",
        "  category1_bias2 = []\n",
        "  category2_bias1 = []\n",
        "  category2_bias2 = []\n",
        "\n",
        "  # Categorizing by going through the whole batch and checking the values\n",
        "  for i in range(a_batch.shape[0]):\n",
        "    if y_batch[i].cpu().detach().numpy() == 0 and a_batch[i].cpu().detach().numpy() == 0:\n",
        "      category1_bias1.append([r_batch[i], p_batch[i]])\n",
        "    elif y_batch[i].cpu().detach().numpy() == 0 and a_batch[i].cpu().detach().numpy() == 1:\n",
        "      category1_bias2.append([r_batch[i], p_batch[i]])\n",
        "    elif y_batch[i].cpu().detach().numpy() == 1 and a_batch[i].cpu().detach().numpy() == 0:\n",
        "      category2_bias1.append([r_batch[i], p_batch[i]])\n",
        "    elif y_batch[i].cpu().detach().numpy() == 1 and a_batch[i].cpu().detach().numpy() == 1:\n",
        "      category2_bias2.append([r_batch[i], p_batch[i]])\n",
        "  \n",
        "  # To store augmented neutralized sample representation generated based on different lambda value and input representations\n",
        "  \n",
        "  # lambda = 0.5\n",
        "  neutralization_repre_5 = torch.zeros(a_batch.shape[0], HIDDEN_DIM)\n",
        "  \n",
        "  # lambda = 0.6\n",
        "  neutralization_repre_6 = torch.zeros(a_batch.shape[0], HIDDEN_DIM)\n",
        "  \n",
        "  # lambda = 0.7\n",
        "  neutralization_repre_7 = torch.zeros(a_batch.shape[0], HIDDEN_DIM)\n",
        "  \n",
        "  # lambda = 0.8\n",
        "  neutralization_repre_8 = torch.zeros(a_batch.shape[0], HIDDEN_DIM)\n",
        "  \n",
        "  # lambda = 0.9\n",
        "  neutralization_repre_9 = torch.zeros(a_batch.shape[0], HIDDEN_DIM)\n",
        "\n",
        "  # To store neutralized probabilities for each class using input representations \n",
        "  neutralization_probability5 = torch.zeros(a_batch.shape[0], 2)\n",
        "\n",
        "  # Taking volunteer from the opposite value of sensitive group for a given category to obtain neutralized values\n",
        "  for i in range(a_batch.shape[0]):\n",
        "\n",
        "    if y_batch[i].cpu().detach().numpy() == 0 and a_batch[i].cpu().detach().numpy() == 0:\n",
        "      if len(category1_bias2) != 0:\n",
        "        neutralization_sample = random.choice(category1_bias2)\n",
        "      else:\n",
        "        neutralization_sample = random.choice(category1_bias1)\n",
        "    \n",
        "        \n",
        "    elif y_batch[i].cpu().detach().numpy() == 0 and a_batch[i].cpu().detach().numpy() == 1:\n",
        "      if len(category1_bias1) != 0:\n",
        "        neutralization_sample = random.choice(category1_bias1)\n",
        "      else:\n",
        "        neutralization_sample = random.choice(category1_bias2)\n",
        "\n",
        "    elif y_batch[i].cpu().detach().numpy() == 1 and a_batch[i].cpu().detach().numpy() == 0:\n",
        "      if len(category2_bias2) != 0:\n",
        "        neutralization_sample = random.choice(category2_bias2)\n",
        "      else:\n",
        "        neutralization_sample = random.choice(category2_bias1)\n",
        "\n",
        "    elif y_batch[i].cpu().detach().numpy() == 1 and a_batch[i].cpu().detach().numpy() == 1:\n",
        "      if len(category2_bias1) != 0:\n",
        "        neutralization_sample = random.choice(category2_bias1)\n",
        "      else:\n",
        "        neutralization_sample = random.choice(category2_bias2)\n",
        "    \n",
        "    # Storing augmented neutralized sample representation\n",
        "    neutralization_repre_5[i] = 0.5 * r_batch[i] + 0.5 * neutralization_sample[0]\n",
        "    neutralization_repre_6[i] = 0.6 * r_batch[i] + 0.4 * neutralization_sample[0]\n",
        "    neutralization_repre_7[i] = 0.7 * r_batch[i] + 0.3 * neutralization_sample[0]\n",
        "    neutralization_repre_8[i] = 0.8 * r_batch[i] + 0.2 * neutralization_sample[0]\n",
        "    neutralization_repre_9[i] = 0.9 * r_batch[i] + 0.1 * neutralization_sample[0]\n",
        "    \n",
        "    # Storing neutralized probabilities\n",
        "    neutralization_probability5[i] = 0.5 * p_batch[i] + 0.5 * neutralization_sample[1]\n",
        "  \n",
        "  neutralization_repre_5 = neutralization_repre_5.cuda()\n",
        "  neutralization_repre_6 = neutralization_repre_6.cuda()\n",
        "  neutralization_repre_7 = neutralization_repre_7.cuda()\n",
        "  neutralization_repre_8 = neutralization_repre_8.cuda()\n",
        "  neutralization_repre_9 = neutralization_repre_9.cuda()\n",
        "\n",
        "\n",
        "  return neutralization_repre_5, neutralization_repre_6, neutralization_repre_7, neutralization_repre_8, neutralization_repre_9, neutralization_probability5\n"
      ]
    },
    {
      "cell_type": "markdown",
      "source": [
        "# Evaluation Definition\n",
        "\n",
        "a) The evaluate_first_stage is used to predict the accuracy after running the dataset through the first stage only.\n",
        "\n",
        "b) The evaluate_second_stage function is used to predict the accuracy after running the dataset through the classification head, after the first stage.\n",
        "This is the final accuracy on the test data."
      ],
      "metadata": {
        "id": "MOSFXFvGKY89"
      }
    },
    {
      "cell_type": "code",
      "source": [
        "def evaluate_first_stage(model, data, loss_function, name):\n",
        "    model.eval()\n",
        "    avg_loss = 0.0\n",
        "    truth_res = []\n",
        "    pred_res = []\n",
        "    for batch in data:\n",
        "        sent, label, sensitive_label = batch[0], batch[1], batch[2]\n",
        "        sent = sent.type(torch.cuda.FloatTensor)\n",
        "        label = label.type(torch.cuda.LongTensor)\n",
        "        sent = Variable(sent)\n",
        "        label = Variable(label)\n",
        "        truth_res += list(label.data)\n",
        "        model.batch_size = len(label.data)\n",
        "        sent = sent.cuda()\n",
        "        pred, representation = model(sent)\n",
        "        pred = F.log_softmax(pred)\n",
        "        pred = pred.cpu()\n",
        "        pred_label = pred.data.max(1)[1].numpy()\n",
        "        pred_res += [x for x in pred_label]\n",
        "        label = label.cpu()\n",
        "        loss = loss_function(pred, label)\n",
        "        avg_loss += loss.data.item()\n",
        "    avg_loss /= len(data)\n",
        "    acc = get_accuracy(truth_res, pred_res)\n",
        "    print(name + ': loss %.2f acc %.1f' % (avg_loss, acc*100))\n",
        "    return acc\n",
        "\n",
        "\n",
        "def evaluate_second_stage(model, classification_head, data, loss_function, name):\n",
        "    model.eval()\n",
        "    classification_head.eval()\n",
        "    avg_loss = 0.0\n",
        "    truth_res = []\n",
        "    pred_res = []\n",
        "    for batch in data:\n",
        "        sent, label, sensitive_label = batch[0], batch[1], batch[2]\n",
        "        sent = sent.type(torch.cuda.FloatTensor)\n",
        "        label = label.type(torch.cuda.LongTensor)\n",
        "        sent = Variable(sent)\n",
        "        label = Variable(label)\n",
        "        truth_res += list(label.cpu().data.numpy())\n",
        "        model.batch_size = len(label.data)\n",
        "        sent = sent.cuda()\n",
        "        pred, representation = model(sent)\n",
        "        pred = classification_head(representation)\n",
        "        pred = F.log_softmax(pred)\n",
        "        pred = pred.cpu()\n",
        "        pred_label = pred.data.max(1)[1].numpy()\n",
        "        pred_res += [x for x in pred_label]\n",
        "        label = label.cpu()\n",
        "        loss = loss_function(pred, label)\n",
        "        avg_loss += loss.data.item()\n",
        "    avg_loss /= len(data)\n",
        "    acc = get_accuracy(truth_res, pred_res)\n",
        "    print(name + ': loss %.2f acc %.1f' % (avg_loss, acc*100))\n",
        "    return acc,pred_res"
      ],
      "metadata": {
        "id": "7DZ2m7gDtXfM"
      },
      "execution_count": null,
      "outputs": []
    },
    {
      "cell_type": "markdown",
      "source": [
        "# Declaring Hyperparameters"
      ],
      "metadata": {
        "id": "odUg_ENMOYiZ"
      }
    },
    {
      "cell_type": "code",
      "source": [
        "EPOCHS_first_stage = 50\n",
        "EPOCHS_second_stage = 20\n",
        "USE_GPU = torch.cuda.is_available()\n",
        "HIDDEN_DIM = 10\n",
        "BATCH_SIZE = 64\n",
        "INPUT_DIM = 10\n",
        "alpha = 0.0005 # This is the value in Equation 4 to control the fairness accuracy trade-off\n",
        "temperature = 5 # Temperature scaling\n"
      ],
      "metadata": {
        "id": "ujCH0gZGR6JV"
      },
      "execution_count": null,
      "outputs": []
    },
    {
      "cell_type": "markdown",
      "source": [
        "# Training & Testing"
      ],
      "metadata": {
        "id": "KckT8SgWOaFD"
      }
    },
    {
      "cell_type": "markdown",
      "source": [
        "We call the train_epoch_progress function defined above for the training of our data. PyTorch’s automatic differentiation engine ‘autograd’ is being used for performing the batch gradient descent."
      ],
      "metadata": {
        "id": "DHZ0EA7iCjfQ"
      }
    },
    {
      "cell_type": "code",
      "source": [
        "# Loading dataset in batch fashion\n",
        "train_iter, dev_iter, test_iter = load_lawgpa(BATCH_SIZE)"
      ],
      "metadata": {
        "id": "iLf7GR_oSihw"
      },
      "execution_count": null,
      "outputs": []
    },
    {
      "cell_type": "code",
      "source": [
        "# Declaring model, classification head, optimizer, loss functions, knowledge distillation loss function etc. to apply RNF framework on.\n",
        "model = Net(INPUT_DIM, HIDDEN_DIM, 2)\n",
        "classification_head = FC(INPUT_DIM, HIDDEN_DIM, 2)\n",
        "if USE_GPU:\n",
        "    model = model.cuda()\n",
        "    classification_head = classification_head.cuda()\n",
        "optimizer = optim.Adam(model.parameters(), lr=1e-3)\n",
        "optimizer_head = optim.Adam(classification_head.parameters(), lr=1e-3)\n",
        "loss_function = nn.NLLLoss()\n",
        "kd_loss_function = nn.MSELoss()"
      ],
      "metadata": {
        "id": "dZEVY8aZaDoo"
      },
      "execution_count": null,
      "outputs": []
    },
    {
      "cell_type": "code",
      "source": [
        "# Training\n",
        "print('Training...')\n",
        "for epoch in range(EPOCHS_first_stage+EPOCHS_second_stage):\n",
        "    avg_loss, acc = train_epoch_progress(model, classification_head, train_iter, loss_function, optimizer, optimizer_head, epoch)\n",
        "    tqdm.write('Train: loss %.2f acc %.1f' % (avg_loss, acc*100))\n",
        "dev_acc = evaluate_second_stage(model, classification_head, dev_iter, loss_function, 'Dev')"
      ],
      "metadata": {
        "id": "3eVzXk-jScMT",
        "colab": {
          "base_uri": "https://localhost:8080/"
        },
        "outputId": "af0301e2-a43f-454d-c60b-e781cdf78687"
      },
      "execution_count": null,
      "outputs": [
        {
          "output_type": "stream",
          "name": "stdout",
          "text": [
            "Training...\n"
          ]
        },
        {
          "output_type": "stream",
          "name": "stderr",
          "text": [
            "Train epoch 1:   0%|          | 0/211 [00:00<?, ?it/s]/usr/local/lib/python3.7/dist-packages/ipykernel_launcher.py:43: UserWarning: Implicit dimension choice for log_softmax has been deprecated. Change the call to include dim=X as an argument.\n",
            "Train epoch 1: 100%|██████████| 211/211 [00:00<00:00, 375.16it/s]\n"
          ]
        },
        {
          "output_type": "stream",
          "name": "stdout",
          "text": [
            "Train: loss 0.61 acc 68.2\n"
          ]
        },
        {
          "output_type": "stream",
          "name": "stderr",
          "text": [
            "Train epoch 2: 100%|██████████| 211/211 [00:00<00:00, 378.27it/s]\n"
          ]
        },
        {
          "output_type": "stream",
          "name": "stdout",
          "text": [
            "Train: loss 0.53 acc 75.4\n"
          ]
        },
        {
          "output_type": "stream",
          "name": "stderr",
          "text": [
            "Train epoch 3: 100%|██████████| 211/211 [00:00<00:00, 388.16it/s]\n"
          ]
        },
        {
          "output_type": "stream",
          "name": "stdout",
          "text": [
            "Train: loss 0.50 acc 78.6\n"
          ]
        },
        {
          "output_type": "stream",
          "name": "stderr",
          "text": [
            "Train epoch 4: 100%|██████████| 211/211 [00:00<00:00, 393.43it/s]\n"
          ]
        },
        {
          "output_type": "stream",
          "name": "stdout",
          "text": [
            "Train: loss 0.49 acc 79.6\n"
          ]
        },
        {
          "output_type": "stream",
          "name": "stderr",
          "text": [
            "Train epoch 5: 100%|██████████| 211/211 [00:00<00:00, 399.78it/s]\n"
          ]
        },
        {
          "output_type": "stream",
          "name": "stdout",
          "text": [
            "Train: loss 0.47 acc 80.6\n"
          ]
        },
        {
          "output_type": "stream",
          "name": "stderr",
          "text": [
            "Train epoch 6: 100%|██████████| 211/211 [00:00<00:00, 393.65it/s]\n"
          ]
        },
        {
          "output_type": "stream",
          "name": "stdout",
          "text": [
            "Train: loss 0.45 acc 80.8\n"
          ]
        },
        {
          "output_type": "stream",
          "name": "stderr",
          "text": [
            "Train epoch 7: 100%|██████████| 211/211 [00:00<00:00, 404.41it/s]\n"
          ]
        },
        {
          "output_type": "stream",
          "name": "stdout",
          "text": [
            "Train: loss 0.44 acc 81.9\n"
          ]
        },
        {
          "output_type": "stream",
          "name": "stderr",
          "text": [
            "Train epoch 8: 100%|██████████| 211/211 [00:00<00:00, 332.81it/s]\n"
          ]
        },
        {
          "output_type": "stream",
          "name": "stdout",
          "text": [
            "Train: loss 0.44 acc 82.3\n"
          ]
        },
        {
          "output_type": "stream",
          "name": "stderr",
          "text": [
            "Train epoch 9: 100%|██████████| 211/211 [00:00<00:00, 396.92it/s]\n"
          ]
        },
        {
          "output_type": "stream",
          "name": "stdout",
          "text": [
            "Train: loss 0.44 acc 82.8\n"
          ]
        },
        {
          "output_type": "stream",
          "name": "stderr",
          "text": [
            "Train epoch 10: 100%|██████████| 211/211 [00:00<00:00, 387.66it/s]\n"
          ]
        },
        {
          "output_type": "stream",
          "name": "stdout",
          "text": [
            "Train: loss 0.42 acc 83.2\n"
          ]
        },
        {
          "output_type": "stream",
          "name": "stderr",
          "text": [
            "Train epoch 11: 100%|██████████| 211/211 [00:00<00:00, 400.60it/s]\n"
          ]
        },
        {
          "output_type": "stream",
          "name": "stdout",
          "text": [
            "Train: loss 0.42 acc 83.3\n"
          ]
        },
        {
          "output_type": "stream",
          "name": "stderr",
          "text": [
            "Train epoch 12: 100%|██████████| 211/211 [00:00<00:00, 391.85it/s]\n"
          ]
        },
        {
          "output_type": "stream",
          "name": "stdout",
          "text": [
            "Train: loss 0.41 acc 83.6\n"
          ]
        },
        {
          "output_type": "stream",
          "name": "stderr",
          "text": [
            "Train epoch 13: 100%|██████████| 211/211 [00:00<00:00, 365.78it/s]\n"
          ]
        },
        {
          "output_type": "stream",
          "name": "stdout",
          "text": [
            "Train: loss 0.41 acc 83.6\n"
          ]
        },
        {
          "output_type": "stream",
          "name": "stderr",
          "text": [
            "Train epoch 14: 100%|██████████| 211/211 [00:00<00:00, 237.78it/s]\n"
          ]
        },
        {
          "output_type": "stream",
          "name": "stdout",
          "text": [
            "Train: loss 0.41 acc 83.7\n"
          ]
        },
        {
          "output_type": "stream",
          "name": "stderr",
          "text": [
            "Train epoch 15: 100%|██████████| 211/211 [00:01<00:00, 178.15it/s]\n"
          ]
        },
        {
          "output_type": "stream",
          "name": "stdout",
          "text": [
            "Train: loss 0.40 acc 83.8\n"
          ]
        },
        {
          "output_type": "stream",
          "name": "stderr",
          "text": [
            "Train epoch 16: 100%|██████████| 211/211 [00:00<00:00, 212.50it/s]\n"
          ]
        },
        {
          "output_type": "stream",
          "name": "stdout",
          "text": [
            "Train: loss 0.40 acc 83.7\n"
          ]
        },
        {
          "output_type": "stream",
          "name": "stderr",
          "text": [
            "Train epoch 17: 100%|██████████| 211/211 [00:00<00:00, 234.23it/s]\n"
          ]
        },
        {
          "output_type": "stream",
          "name": "stdout",
          "text": [
            "Train: loss 0.40 acc 83.7\n"
          ]
        },
        {
          "output_type": "stream",
          "name": "stderr",
          "text": [
            "Train epoch 18: 100%|██████████| 211/211 [00:01<00:00, 203.17it/s]\n"
          ]
        },
        {
          "output_type": "stream",
          "name": "stdout",
          "text": [
            "Train: loss 0.39 acc 83.7\n"
          ]
        },
        {
          "output_type": "stream",
          "name": "stderr",
          "text": [
            "Train epoch 19: 100%|██████████| 211/211 [00:00<00:00, 249.61it/s]\n"
          ]
        },
        {
          "output_type": "stream",
          "name": "stdout",
          "text": [
            "Train: loss 0.38 acc 83.7\n"
          ]
        },
        {
          "output_type": "stream",
          "name": "stderr",
          "text": [
            "Train epoch 20: 100%|██████████| 211/211 [00:01<00:00, 201.53it/s]\n"
          ]
        },
        {
          "output_type": "stream",
          "name": "stdout",
          "text": [
            "Train: loss 0.37 acc 83.7\n"
          ]
        },
        {
          "output_type": "stream",
          "name": "stderr",
          "text": [
            "Train epoch 21: 100%|██████████| 211/211 [00:01<00:00, 206.88it/s]\n"
          ]
        },
        {
          "output_type": "stream",
          "name": "stdout",
          "text": [
            "Train: loss 0.36 acc 83.9\n"
          ]
        },
        {
          "output_type": "stream",
          "name": "stderr",
          "text": [
            "Train epoch 22: 100%|██████████| 211/211 [00:00<00:00, 230.40it/s]\n"
          ]
        },
        {
          "output_type": "stream",
          "name": "stdout",
          "text": [
            "Train: loss 0.35 acc 83.7\n"
          ]
        },
        {
          "output_type": "stream",
          "name": "stderr",
          "text": [
            "Train epoch 23: 100%|██████████| 211/211 [00:00<00:00, 251.73it/s]\n"
          ]
        },
        {
          "output_type": "stream",
          "name": "stdout",
          "text": [
            "Train: loss 0.33 acc 84.0\n"
          ]
        },
        {
          "output_type": "stream",
          "name": "stderr",
          "text": [
            "Train epoch 24: 100%|██████████| 211/211 [00:01<00:00, 184.13it/s]\n"
          ]
        },
        {
          "output_type": "stream",
          "name": "stdout",
          "text": [
            "Train: loss 0.33 acc 84.3\n"
          ]
        },
        {
          "output_type": "stream",
          "name": "stderr",
          "text": [
            "Train epoch 25: 100%|██████████| 211/211 [00:01<00:00, 169.02it/s]\n"
          ]
        },
        {
          "output_type": "stream",
          "name": "stdout",
          "text": [
            "Train: loss 0.32 acc 84.3\n"
          ]
        },
        {
          "output_type": "stream",
          "name": "stderr",
          "text": [
            "Train epoch 26: 100%|██████████| 211/211 [00:01<00:00, 151.60it/s]\n"
          ]
        },
        {
          "output_type": "stream",
          "name": "stdout",
          "text": [
            "Train: loss 0.32 acc 84.4\n"
          ]
        },
        {
          "output_type": "stream",
          "name": "stderr",
          "text": [
            "Train epoch 27: 100%|██████████| 211/211 [00:01<00:00, 174.21it/s]\n"
          ]
        },
        {
          "output_type": "stream",
          "name": "stdout",
          "text": [
            "Train: loss 0.31 acc 84.5\n"
          ]
        },
        {
          "output_type": "stream",
          "name": "stderr",
          "text": [
            "Train epoch 28: 100%|██████████| 211/211 [00:01<00:00, 153.39it/s]\n"
          ]
        },
        {
          "output_type": "stream",
          "name": "stdout",
          "text": [
            "Train: loss 0.31 acc 84.7\n"
          ]
        },
        {
          "output_type": "stream",
          "name": "stderr",
          "text": [
            "Train epoch 29: 100%|██████████| 211/211 [00:01<00:00, 184.97it/s]\n"
          ]
        },
        {
          "output_type": "stream",
          "name": "stdout",
          "text": [
            "Train: loss 0.31 acc 84.8\n"
          ]
        },
        {
          "output_type": "stream",
          "name": "stderr",
          "text": [
            "Train epoch 30: 100%|██████████| 211/211 [00:01<00:00, 168.20it/s]\n"
          ]
        },
        {
          "output_type": "stream",
          "name": "stdout",
          "text": [
            "Train: loss 0.30 acc 84.8\n"
          ]
        },
        {
          "output_type": "stream",
          "name": "stderr",
          "text": [
            "Train epoch 31: 100%|██████████| 211/211 [00:01<00:00, 177.06it/s]\n"
          ]
        },
        {
          "output_type": "stream",
          "name": "stdout",
          "text": [
            "Train: loss 0.29 acc 84.9\n"
          ]
        },
        {
          "output_type": "stream",
          "name": "stderr",
          "text": [
            "Train epoch 32: 100%|██████████| 211/211 [00:01<00:00, 190.79it/s]\n"
          ]
        },
        {
          "output_type": "stream",
          "name": "stdout",
          "text": [
            "Train: loss 0.29 acc 85.0\n"
          ]
        },
        {
          "output_type": "stream",
          "name": "stderr",
          "text": [
            "Train epoch 33: 100%|██████████| 211/211 [00:01<00:00, 158.54it/s]\n"
          ]
        },
        {
          "output_type": "stream",
          "name": "stdout",
          "text": [
            "Train: loss 0.28 acc 85.0\n"
          ]
        },
        {
          "output_type": "stream",
          "name": "stderr",
          "text": [
            "Train epoch 34: 100%|██████████| 211/211 [00:00<00:00, 230.83it/s]\n"
          ]
        },
        {
          "output_type": "stream",
          "name": "stdout",
          "text": [
            "Train: loss 0.28 acc 85.0\n"
          ]
        },
        {
          "output_type": "stream",
          "name": "stderr",
          "text": [
            "Train epoch 35: 100%|██████████| 211/211 [00:00<00:00, 390.81it/s]\n"
          ]
        },
        {
          "output_type": "stream",
          "name": "stdout",
          "text": [
            "Train: loss 0.27 acc 85.1\n"
          ]
        },
        {
          "output_type": "stream",
          "name": "stderr",
          "text": [
            "Train epoch 36: 100%|██████████| 211/211 [00:00<00:00, 378.42it/s]\n"
          ]
        },
        {
          "output_type": "stream",
          "name": "stdout",
          "text": [
            "Train: loss 0.27 acc 85.1\n"
          ]
        },
        {
          "output_type": "stream",
          "name": "stderr",
          "text": [
            "Train epoch 37: 100%|██████████| 211/211 [00:00<00:00, 407.30it/s]\n"
          ]
        },
        {
          "output_type": "stream",
          "name": "stdout",
          "text": [
            "Train: loss 0.27 acc 85.1\n"
          ]
        },
        {
          "output_type": "stream",
          "name": "stderr",
          "text": [
            "Train epoch 38: 100%|██████████| 211/211 [00:00<00:00, 386.56it/s]\n"
          ]
        },
        {
          "output_type": "stream",
          "name": "stdout",
          "text": [
            "Train: loss 0.27 acc 85.1\n"
          ]
        },
        {
          "output_type": "stream",
          "name": "stderr",
          "text": [
            "Train epoch 39: 100%|██████████| 211/211 [00:00<00:00, 392.80it/s]\n"
          ]
        },
        {
          "output_type": "stream",
          "name": "stdout",
          "text": [
            "Train: loss 0.26 acc 87.6\n"
          ]
        },
        {
          "output_type": "stream",
          "name": "stderr",
          "text": [
            "Train epoch 40: 100%|██████████| 211/211 [00:00<00:00, 387.49it/s]\n"
          ]
        },
        {
          "output_type": "stream",
          "name": "stdout",
          "text": [
            "Train: loss 0.26 acc 88.8\n"
          ]
        },
        {
          "output_type": "stream",
          "name": "stderr",
          "text": [
            "Train epoch 41: 100%|██████████| 211/211 [00:00<00:00, 399.40it/s]\n"
          ]
        },
        {
          "output_type": "stream",
          "name": "stdout",
          "text": [
            "Train: loss 0.25 acc 89.2\n"
          ]
        },
        {
          "output_type": "stream",
          "name": "stderr",
          "text": [
            "Train epoch 42: 100%|██████████| 211/211 [00:00<00:00, 393.90it/s]\n"
          ]
        },
        {
          "output_type": "stream",
          "name": "stdout",
          "text": [
            "Train: loss 0.25 acc 89.3\n"
          ]
        },
        {
          "output_type": "stream",
          "name": "stderr",
          "text": [
            "Train epoch 43: 100%|██████████| 211/211 [00:00<00:00, 400.93it/s]\n"
          ]
        },
        {
          "output_type": "stream",
          "name": "stdout",
          "text": [
            "Train: loss 0.25 acc 89.3\n"
          ]
        },
        {
          "output_type": "stream",
          "name": "stderr",
          "text": [
            "Train epoch 44: 100%|██████████| 211/211 [00:00<00:00, 390.25it/s]\n"
          ]
        },
        {
          "output_type": "stream",
          "name": "stdout",
          "text": [
            "Train: loss 0.25 acc 89.2\n"
          ]
        },
        {
          "output_type": "stream",
          "name": "stderr",
          "text": [
            "Train epoch 45: 100%|██████████| 211/211 [00:00<00:00, 402.12it/s]\n"
          ]
        },
        {
          "output_type": "stream",
          "name": "stdout",
          "text": [
            "Train: loss 0.25 acc 89.2\n"
          ]
        },
        {
          "output_type": "stream",
          "name": "stderr",
          "text": [
            "Train epoch 46: 100%|██████████| 211/211 [00:00<00:00, 384.39it/s]\n"
          ]
        },
        {
          "output_type": "stream",
          "name": "stdout",
          "text": [
            "Train: loss 0.25 acc 89.0\n"
          ]
        },
        {
          "output_type": "stream",
          "name": "stderr",
          "text": [
            "Train epoch 47: 100%|██████████| 211/211 [00:00<00:00, 393.72it/s]\n"
          ]
        },
        {
          "output_type": "stream",
          "name": "stdout",
          "text": [
            "Train: loss 0.25 acc 89.1\n"
          ]
        },
        {
          "output_type": "stream",
          "name": "stderr",
          "text": [
            "Train epoch 48: 100%|██████████| 211/211 [00:00<00:00, 390.98it/s]\n"
          ]
        },
        {
          "output_type": "stream",
          "name": "stdout",
          "text": [
            "Train: loss 0.25 acc 88.8\n"
          ]
        },
        {
          "output_type": "stream",
          "name": "stderr",
          "text": [
            "Train epoch 49: 100%|██████████| 211/211 [00:00<00:00, 387.51it/s]\n"
          ]
        },
        {
          "output_type": "stream",
          "name": "stdout",
          "text": [
            "Train: loss 0.25 acc 88.8\n"
          ]
        },
        {
          "output_type": "stream",
          "name": "stderr",
          "text": [
            "Train epoch 50: 100%|██████████| 211/211 [00:00<00:00, 401.36it/s]\n"
          ]
        },
        {
          "output_type": "stream",
          "name": "stdout",
          "text": [
            "Train: loss 0.24 acc 89.3\n"
          ]
        },
        {
          "output_type": "stream",
          "name": "stderr",
          "text": [
            "Train epoch 51:   0%|          | 0/211 [00:00<?, ?it/s]/usr/local/lib/python3.7/dist-packages/ipykernel_launcher.py:87: UserWarning: Implicit dimension choice for log_softmax has been deprecated. Change the call to include dim=X as an argument.\n",
            "Train epoch 51: 100%|██████████| 211/211 [00:05<00:00, 39.06it/s]\n"
          ]
        },
        {
          "output_type": "stream",
          "name": "stdout",
          "text": [
            "Train: loss 0.06 acc 71.3\n"
          ]
        },
        {
          "output_type": "stream",
          "name": "stderr",
          "text": [
            "Train epoch 52: 100%|██████████| 211/211 [00:05<00:00, 39.04it/s]\n"
          ]
        },
        {
          "output_type": "stream",
          "name": "stdout",
          "text": [
            "Train: loss 0.04 acc 79.7\n"
          ]
        },
        {
          "output_type": "stream",
          "name": "stderr",
          "text": [
            "Train epoch 53: 100%|██████████| 211/211 [00:05<00:00, 39.15it/s]\n"
          ]
        },
        {
          "output_type": "stream",
          "name": "stdout",
          "text": [
            "Train: loss 0.03 acc 83.4\n"
          ]
        },
        {
          "output_type": "stream",
          "name": "stderr",
          "text": [
            "Train epoch 54: 100%|██████████| 211/211 [00:05<00:00, 39.59it/s]\n"
          ]
        },
        {
          "output_type": "stream",
          "name": "stdout",
          "text": [
            "Train: loss 0.03 acc 83.6\n"
          ]
        },
        {
          "output_type": "stream",
          "name": "stderr",
          "text": [
            "Train epoch 55: 100%|██████████| 211/211 [00:05<00:00, 39.76it/s]\n"
          ]
        },
        {
          "output_type": "stream",
          "name": "stdout",
          "text": [
            "Train: loss 0.02 acc 83.5\n"
          ]
        },
        {
          "output_type": "stream",
          "name": "stderr",
          "text": [
            "Train epoch 56: 100%|██████████| 211/211 [00:05<00:00, 39.43it/s]\n"
          ]
        },
        {
          "output_type": "stream",
          "name": "stdout",
          "text": [
            "Train: loss 0.02 acc 83.5\n"
          ]
        },
        {
          "output_type": "stream",
          "name": "stderr",
          "text": [
            "Train epoch 57: 100%|██████████| 211/211 [00:05<00:00, 39.78it/s]\n"
          ]
        },
        {
          "output_type": "stream",
          "name": "stdout",
          "text": [
            "Train: loss 0.02 acc 83.9\n"
          ]
        },
        {
          "output_type": "stream",
          "name": "stderr",
          "text": [
            "Train epoch 58: 100%|██████████| 211/211 [00:05<00:00, 39.78it/s]\n"
          ]
        },
        {
          "output_type": "stream",
          "name": "stdout",
          "text": [
            "Train: loss 0.02 acc 83.7\n"
          ]
        },
        {
          "output_type": "stream",
          "name": "stderr",
          "text": [
            "Train epoch 59: 100%|██████████| 211/211 [00:05<00:00, 39.77it/s]\n"
          ]
        },
        {
          "output_type": "stream",
          "name": "stdout",
          "text": [
            "Train: loss 0.02 acc 83.7\n"
          ]
        },
        {
          "output_type": "stream",
          "name": "stderr",
          "text": [
            "Train epoch 60: 100%|██████████| 211/211 [00:05<00:00, 39.34it/s]\n"
          ]
        },
        {
          "output_type": "stream",
          "name": "stdout",
          "text": [
            "Train: loss 0.02 acc 83.8\n"
          ]
        },
        {
          "output_type": "stream",
          "name": "stderr",
          "text": [
            "Train epoch 61: 100%|██████████| 211/211 [00:06<00:00, 30.62it/s]\n"
          ]
        },
        {
          "output_type": "stream",
          "name": "stdout",
          "text": [
            "Train: loss 0.02 acc 83.8\n"
          ]
        },
        {
          "output_type": "stream",
          "name": "stderr",
          "text": [
            "Train epoch 62: 100%|██████████| 211/211 [00:05<00:00, 39.19it/s]\n"
          ]
        },
        {
          "output_type": "stream",
          "name": "stdout",
          "text": [
            "Train: loss 0.02 acc 83.7\n"
          ]
        },
        {
          "output_type": "stream",
          "name": "stderr",
          "text": [
            "Train epoch 63: 100%|██████████| 211/211 [00:05<00:00, 39.84it/s]\n"
          ]
        },
        {
          "output_type": "stream",
          "name": "stdout",
          "text": [
            "Train: loss 0.02 acc 83.9\n"
          ]
        },
        {
          "output_type": "stream",
          "name": "stderr",
          "text": [
            "Train epoch 64: 100%|██████████| 211/211 [00:05<00:00, 39.76it/s]\n"
          ]
        },
        {
          "output_type": "stream",
          "name": "stdout",
          "text": [
            "Train: loss 0.02 acc 83.8\n"
          ]
        },
        {
          "output_type": "stream",
          "name": "stderr",
          "text": [
            "Train epoch 65: 100%|██████████| 211/211 [00:05<00:00, 40.14it/s]\n"
          ]
        },
        {
          "output_type": "stream",
          "name": "stdout",
          "text": [
            "Train: loss 0.02 acc 83.8\n"
          ]
        },
        {
          "output_type": "stream",
          "name": "stderr",
          "text": [
            "Train epoch 66: 100%|██████████| 211/211 [00:05<00:00, 40.03it/s]\n"
          ]
        },
        {
          "output_type": "stream",
          "name": "stdout",
          "text": [
            "Train: loss 0.02 acc 83.8\n"
          ]
        },
        {
          "output_type": "stream",
          "name": "stderr",
          "text": [
            "Train epoch 67: 100%|██████████| 211/211 [00:05<00:00, 39.81it/s]\n"
          ]
        },
        {
          "output_type": "stream",
          "name": "stdout",
          "text": [
            "Train: loss 0.02 acc 83.8\n"
          ]
        },
        {
          "output_type": "stream",
          "name": "stderr",
          "text": [
            "Train epoch 68: 100%|██████████| 211/211 [00:05<00:00, 39.95it/s]\n"
          ]
        },
        {
          "output_type": "stream",
          "name": "stdout",
          "text": [
            "Train: loss 0.02 acc 83.7\n"
          ]
        },
        {
          "output_type": "stream",
          "name": "stderr",
          "text": [
            "Train epoch 69: 100%|██████████| 211/211 [00:05<00:00, 39.91it/s]\n"
          ]
        },
        {
          "output_type": "stream",
          "name": "stdout",
          "text": [
            "Train: loss 0.02 acc 83.8\n"
          ]
        },
        {
          "output_type": "stream",
          "name": "stderr",
          "text": [
            "Train epoch 70: 100%|██████████| 211/211 [00:05<00:00, 39.96it/s]\n",
            "/usr/local/lib/python3.7/dist-packages/ipykernel_launcher.py:46: UserWarning: Implicit dimension choice for log_softmax has been deprecated. Change the call to include dim=X as an argument.\n"
          ]
        },
        {
          "output_type": "stream",
          "name": "stdout",
          "text": [
            "Train: loss 0.02 acc 83.7\n",
            "Dev: loss 0.40 acc 84.9\n"
          ]
        }
      ]
    },
    {
      "cell_type": "code",
      "source": [
        "# Testing\n",
        "test_acc,pred_res = evaluate_second_stage(model, classification_head, test_iter, loss_function, 'Final Test')"
      ],
      "metadata": {
        "id": "WUIh8Y7WSelp",
        "colab": {
          "base_uri": "https://localhost:8080/"
        },
        "outputId": "db28e1a1-3be7-4769-c620-5a2264e92e77"
      },
      "execution_count": null,
      "outputs": [
        {
          "output_type": "stream",
          "name": "stderr",
          "text": [
            "/usr/local/lib/python3.7/dist-packages/ipykernel_launcher.py:46: UserWarning: Implicit dimension choice for log_softmax has been deprecated. Change the call to include dim=X as an argument.\n"
          ]
        },
        {
          "output_type": "stream",
          "name": "stdout",
          "text": [
            "Final Test: loss 0.40 acc 85.0\n"
          ]
        }
      ]
    },
    {
      "cell_type": "markdown",
      "source": [
        "# Fairness Analysis\n",
        "\n",
        "a) Visualise fairness for our model\n",
        "\n",
        "b) Plot pareto curves to see how bias and accuracy vary with alpha"
      ],
      "metadata": {
        "id": "6t0ZlI4zwQu7"
      }
    },
    {
      "cell_type": "code",
      "source": [
        "# Visualizing accuracy and selection rate with respect to sensitive feature(gender)\n",
        "from sklearn import metrics as skm\n",
        "from fairlearn.reductions import DemographicParity, ErrorRate\n",
        "from fairlearn.metrics import MetricFrame, selection_rate, count,equalized_odds_difference,demographic_parity_difference\n",
        "metric_frame = MetricFrame(metrics={\"accuracy\": skm.accuracy_score,\n",
        "                                    \"selection rate\": selection_rate,\n",
        "                                    \"count\": count},\n",
        "                           sensitive_features=test['gender'],\n",
        "                           y_true=test['ugpa'],\n",
        "                           y_pred=pred_res)\n",
        "print(metric_frame.overall)\n",
        "print(metric_frame.by_group)\n",
        "metric_frame.by_group.plot.bar(\n",
        "        subplots=True, layout=[3, 1], legend=False, figsize=[12, 8],\n",
        "        title='Accuracy and selection rate by group')\n"
      ],
      "metadata": {
        "id": "ba6koBjXjweX",
        "colab": {
          "base_uri": "https://localhost:8080/",
          "height": 759
        },
        "outputId": "468ce393-853b-420f-a6e6-ccfbc1fc8a49"
      },
      "execution_count": null,
      "outputs": [
        {
          "output_type": "stream",
          "name": "stdout",
          "text": [
            "accuracy          0.850257\n",
            "selection rate    0.837313\n",
            "count                 4481\n",
            "dtype: object\n",
            "        accuracy selection rate count\n",
            "gender                               \n",
            "0       0.874556       0.868969  1969\n",
            "1        0.83121         0.8125  2512\n"
          ]
        },
        {
          "output_type": "execute_result",
          "data": {
            "text/plain": [
              "array([[<matplotlib.axes._subplots.AxesSubplot object at 0x7f6272ec1e10>],\n",
              "       [<matplotlib.axes._subplots.AxesSubplot object at 0x7f625b7d4dd0>],\n",
              "       [<matplotlib.axes._subplots.AxesSubplot object at 0x7f62738ed150>]],\n",
              "      dtype=object)"
            ]
          },
          "metadata": {},
          "execution_count": 56
        },
        {
          "output_type": "display_data",
          "data": {
            "text/plain": [
              "<Figure size 864x576 with 3 Axes>"
            ],
            "image/png": "[encoded data removed]"
          },
          "metadata": {
            "needs_background": "light"
          }
        }
      ]
    },
    {
      "cell_type": "code",
      "source": [
        "    # Measuring bias using the metric - demographic parity difference\n",
        "    print(\n",
        "        \"demographic parity difference (test): %.2f\"\n",
        "        % demographic_parity_difference(\n",
        "            y_true=test['ugpa'],\n",
        "            y_pred=pred_res,\n",
        "            sensitive_features=test['gender'],\n",
        "        )\n",
        "    )\n"
      ],
      "metadata": {
        "id": "69GlXPOgynwP",
        "colab": {
          "base_uri": "https://localhost:8080/"
        },
        "outputId": "a5fb1bff-906b-40f6-bf2e-8a0f3c62c943"
      },
      "execution_count": null,
      "outputs": [
        {
          "output_type": "stream",
          "name": "stdout",
          "text": [
            "demographic parity difference (test): 0.06\n"
          ]
        }
      ]
    },
    {
      "cell_type": "code",
      "source": [
        "errors=[]\n",
        "biases=[]\n"
      ],
      "metadata": {
        "id": "lo25pXQJ-Kci"
      },
      "execution_count": null,
      "outputs": []
    },
    {
      "cell_type": "code",
      "source": [
        "# Finding error and bias for different values of alpha for plotting pareto front\n",
        "alpha=0\n",
        "EPOCHS_first_stage = 9\n",
        "EPOCHS_second_stage = 4\n",
        "for i in range(20):\n",
        "  alpha=alpha+0.00001*i\n",
        "  train_iter, dev_iter, test_iter = load_lawgpa(BATCH_SIZE)\n",
        "  model = Net(INPUT_DIM, HIDDEN_DIM, 2)\n",
        "  classification_head = FC(INPUT_DIM, HIDDEN_DIM, 2)\n",
        "  if USE_GPU:\n",
        "      model = model.cuda()\n",
        "      classification_head = classification_head.cuda()\n",
        "  optimizer = optim.Adam(model.parameters(), lr=1e-3)\n",
        "  optimizer_head = optim.Adam(classification_head.parameters(), lr=1e-3)\n",
        "  loss_function = nn.NLLLoss()\n",
        "  kd_loss_function = nn.MSELoss()\n",
        "  for epoch in range(EPOCHS_first_stage+EPOCHS_second_stage):\n",
        "    avg_loss, acc = train_epoch_progress(model, classification_head, train_iter, loss_function, optimizer, optimizer_head, epoch)\n",
        "  test_acc,pred_res = evaluate_second_stage(model, classification_head, test_iter, loss_function, 'Final Test')\n",
        "  bias=demographic_parity_difference(\n",
        "            y_true=test['ugpa'],\n",
        "            y_pred=pred_res,\n",
        "            sensitive_features=test['gender'],\n",
        "        )\n",
        "  error=1-(test_acc)\n",
        "  biases.append(bias)\n",
        "  errors.append(error)"
      ],
      "metadata": {
        "id": "UBVsvLlC75vC",
        "colab": {
          "base_uri": "https://localhost:8080/"
        },
        "outputId": "7dfc1666-ee7a-47d5-de00-f8bfb1b260bd"
      },
      "execution_count": null,
      "outputs": [
        {
          "output_type": "stream",
          "name": "stderr",
          "text": [
            "Train epoch 1:   0%|          | 0/211 [00:00<?, ?it/s]/usr/local/lib/python3.7/dist-packages/ipykernel_launcher.py:43: UserWarning: Implicit dimension choice for log_softmax has been deprecated. Change the call to include dim=X as an argument.\n",
            "Train epoch 1: 100%|██████████| 211/211 [00:00<00:00, 392.19it/s]\n",
            "Train epoch 2: 100%|██████████| 211/211 [00:00<00:00, 342.56it/s]\n",
            "Train epoch 3: 100%|██████████| 211/211 [00:00<00:00, 362.68it/s]\n",
            "Train epoch 4: 100%|██████████| 211/211 [00:00<00:00, 380.04it/s]\n",
            "Train epoch 5: 100%|██████████| 211/211 [00:00<00:00, 404.04it/s]\n",
            "Train epoch 6: 100%|██████████| 211/211 [00:00<00:00, 388.06it/s]\n",
            "Train epoch 7: 100%|██████████| 211/211 [00:00<00:00, 346.45it/s]\n",
            "Train epoch 8: 100%|██████████| 211/211 [00:00<00:00, 385.10it/s]\n",
            "Train epoch 9: 100%|██████████| 211/211 [00:00<00:00, 404.13it/s]\n",
            "Train epoch 10:   0%|          | 0/211 [00:00<?, ?it/s]/usr/local/lib/python3.7/dist-packages/ipykernel_launcher.py:87: UserWarning: Implicit dimension choice for log_softmax has been deprecated. Change the call to include dim=X as an argument.\n",
            "Train epoch 10: 100%|██████████| 211/211 [00:09<00:00, 22.48it/s]\n",
            "Train epoch 11: 100%|██████████| 211/211 [00:12<00:00, 16.53it/s]\n",
            "Train epoch 12: 100%|██████████| 211/211 [00:06<00:00, 32.21it/s]\n",
            "Train epoch 13: 100%|██████████| 211/211 [00:05<00:00, 39.77it/s]\n",
            "/usr/local/lib/python3.7/dist-packages/ipykernel_launcher.py:46: UserWarning: Implicit dimension choice for log_softmax has been deprecated. Change the call to include dim=X as an argument.\n"
          ]
        },
        {
          "output_type": "stream",
          "name": "stdout",
          "text": [
            "Final Test: loss 0.58 acc 84.3\n"
          ]
        },
        {
          "output_type": "stream",
          "name": "stderr",
          "text": [
            "Train epoch 1: 100%|██████████| 211/211 [00:00<00:00, 396.98it/s]\n",
            "Train epoch 2: 100%|██████████| 211/211 [00:00<00:00, 404.95it/s]\n",
            "Train epoch 3: 100%|██████████| 211/211 [00:00<00:00, 393.99it/s]\n",
            "Train epoch 4: 100%|██████████| 211/211 [00:00<00:00, 399.32it/s]\n",
            "Train epoch 5: 100%|██████████| 211/211 [00:00<00:00, 408.48it/s]\n",
            "Train epoch 6: 100%|██████████| 211/211 [00:00<00:00, 401.77it/s]\n",
            "Train epoch 7: 100%|██████████| 211/211 [00:00<00:00, 397.11it/s]\n",
            "Train epoch 8: 100%|██████████| 211/211 [00:00<00:00, 395.11it/s]\n",
            "Train epoch 9: 100%|██████████| 211/211 [00:00<00:00, 403.09it/s]\n",
            "Train epoch 10: 100%|██████████| 211/211 [00:05<00:00, 39.57it/s]\n",
            "Train epoch 11: 100%|██████████| 211/211 [00:10<00:00, 20.50it/s]\n",
            "Train epoch 12: 100%|██████████| 211/211 [00:07<00:00, 27.90it/s]\n",
            "Train epoch 13: 100%|██████████| 211/211 [00:07<00:00, 27.22it/s]\n"
          ]
        },
        {
          "output_type": "stream",
          "name": "stdout",
          "text": [
            "Final Test: loss 0.58 acc 81.5\n"
          ]
        },
        {
          "output_type": "stream",
          "name": "stderr",
          "text": [
            "Train epoch 1: 100%|██████████| 211/211 [00:00<00:00, 278.61it/s]\n",
            "Train epoch 2: 100%|██████████| 211/211 [00:00<00:00, 285.17it/s]\n",
            "Train epoch 3: 100%|██████████| 211/211 [00:00<00:00, 243.05it/s]\n",
            "Train epoch 4: 100%|██████████| 211/211 [00:00<00:00, 264.21it/s]\n",
            "Train epoch 5: 100%|██████████| 211/211 [00:00<00:00, 299.73it/s]\n",
            "Train epoch 6: 100%|██████████| 211/211 [00:00<00:00, 284.89it/s]\n",
            "Train epoch 7: 100%|██████████| 211/211 [00:00<00:00, 253.50it/s]\n",
            "Train epoch 8: 100%|██████████| 211/211 [00:00<00:00, 300.92it/s]\n",
            "Train epoch 9: 100%|██████████| 211/211 [00:00<00:00, 249.24it/s]\n",
            "Train epoch 10: 100%|██████████| 211/211 [00:07<00:00, 29.36it/s]\n",
            "Train epoch 11: 100%|██████████| 211/211 [00:06<00:00, 31.70it/s]\n",
            "Train epoch 12: 100%|██████████| 211/211 [00:05<00:00, 40.20it/s]\n",
            "Train epoch 13: 100%|██████████| 211/211 [00:05<00:00, 40.11it/s]\n"
          ]
        },
        {
          "output_type": "stream",
          "name": "stdout",
          "text": [
            "Final Test: loss 0.58 acc 81.4\n"
          ]
        },
        {
          "output_type": "stream",
          "name": "stderr",
          "text": [
            "Train epoch 1: 100%|██████████| 211/211 [00:00<00:00, 395.35it/s]\n",
            "Train epoch 2: 100%|██████████| 211/211 [00:00<00:00, 399.35it/s]\n",
            "Train epoch 3: 100%|██████████| 211/211 [00:00<00:00, 386.08it/s]\n",
            "Train epoch 4: 100%|██████████| 211/211 [00:00<00:00, 396.21it/s]\n",
            "Train epoch 5: 100%|██████████| 211/211 [00:00<00:00, 394.88it/s]\n",
            "Train epoch 6: 100%|██████████| 211/211 [00:00<00:00, 396.23it/s]\n",
            "Train epoch 7: 100%|██████████| 211/211 [00:00<00:00, 401.26it/s]\n",
            "Train epoch 8: 100%|██████████| 211/211 [00:00<00:00, 393.87it/s]\n",
            "Train epoch 9: 100%|██████████| 211/211 [00:00<00:00, 392.07it/s]\n",
            "Train epoch 10: 100%|██████████| 211/211 [00:05<00:00, 40.44it/s]\n",
            "Train epoch 11: 100%|██████████| 211/211 [00:05<00:00, 40.42it/s]\n",
            "Train epoch 12: 100%|██████████| 211/211 [00:05<00:00, 40.34it/s]\n",
            "Train epoch 13: 100%|██████████| 211/211 [00:05<00:00, 40.70it/s]\n"
          ]
        },
        {
          "output_type": "stream",
          "name": "stdout",
          "text": [
            "Final Test: loss 0.58 acc 84.4\n"
          ]
        },
        {
          "output_type": "stream",
          "name": "stderr",
          "text": [
            "Train epoch 1: 100%|██████████| 211/211 [00:00<00:00, 229.76it/s]\n",
            "Train epoch 2: 100%|██████████| 211/211 [00:00<00:00, 324.86it/s]\n",
            "Train epoch 3: 100%|██████████| 211/211 [00:00<00:00, 397.51it/s]\n",
            "Train epoch 4: 100%|██████████| 211/211 [00:00<00:00, 403.84it/s]\n",
            "Train epoch 5: 100%|██████████| 211/211 [00:00<00:00, 395.27it/s]\n",
            "Train epoch 6: 100%|██████████| 211/211 [00:00<00:00, 388.13it/s]\n",
            "Train epoch 7: 100%|██████████| 211/211 [00:00<00:00, 385.85it/s]\n",
            "Train epoch 8: 100%|██████████| 211/211 [00:00<00:00, 396.00it/s]\n",
            "Train epoch 9: 100%|██████████| 211/211 [00:00<00:00, 398.63it/s]\n",
            "Train epoch 10: 100%|██████████| 211/211 [00:05<00:00, 40.44it/s]\n",
            "Train epoch 11: 100%|██████████| 211/211 [00:05<00:00, 40.38it/s]\n",
            "Train epoch 12: 100%|██████████| 211/211 [00:05<00:00, 40.41it/s]\n",
            "Train epoch 13: 100%|██████████| 211/211 [00:05<00:00, 40.35it/s]\n"
          ]
        },
        {
          "output_type": "stream",
          "name": "stdout",
          "text": [
            "Final Test: loss 0.58 acc 84.6\n"
          ]
        },
        {
          "output_type": "stream",
          "name": "stderr",
          "text": [
            "Train epoch 1: 100%|██████████| 211/211 [00:00<00:00, 396.54it/s]\n",
            "Train epoch 2: 100%|██████████| 211/211 [00:00<00:00, 393.28it/s]\n",
            "Train epoch 3: 100%|██████████| 211/211 [00:00<00:00, 401.38it/s]\n",
            "Train epoch 4: 100%|██████████| 211/211 [00:00<00:00, 399.66it/s]\n",
            "Train epoch 5: 100%|██████████| 211/211 [00:00<00:00, 398.42it/s]\n",
            "Train epoch 6: 100%|██████████| 211/211 [00:00<00:00, 394.97it/s]\n",
            "Train epoch 7: 100%|██████████| 211/211 [00:00<00:00, 404.16it/s]\n",
            "Train epoch 8: 100%|██████████| 211/211 [00:00<00:00, 398.55it/s]\n",
            "Train epoch 9: 100%|██████████| 211/211 [00:00<00:00, 394.02it/s]\n",
            "Train epoch 10: 100%|██████████| 211/211 [00:05<00:00, 40.22it/s]\n",
            "Train epoch 11: 100%|██████████| 211/211 [00:05<00:00, 39.84it/s]\n",
            "Train epoch 12: 100%|██████████| 211/211 [00:05<00:00, 40.73it/s]\n",
            "Train epoch 13: 100%|██████████| 211/211 [00:06<00:00, 33.32it/s]\n"
          ]
        },
        {
          "output_type": "stream",
          "name": "stdout",
          "text": [
            "Final Test: loss 0.59 acc 84.4\n"
          ]
        },
        {
          "output_type": "stream",
          "name": "stderr",
          "text": [
            "Train epoch 1: 100%|██████████| 211/211 [00:00<00:00, 391.35it/s]\n",
            "Train epoch 2: 100%|██████████| 211/211 [00:00<00:00, 403.25it/s]\n",
            "Train epoch 3: 100%|██████████| 211/211 [00:00<00:00, 403.64it/s]\n",
            "Train epoch 4: 100%|██████████| 211/211 [00:00<00:00, 404.33it/s]\n",
            "Train epoch 5: 100%|██████████| 211/211 [00:00<00:00, 386.43it/s]\n",
            "Train epoch 6: 100%|██████████| 211/211 [00:00<00:00, 407.09it/s]\n",
            "Train epoch 7: 100%|██████████| 211/211 [00:00<00:00, 400.60it/s]\n",
            "Train epoch 8: 100%|██████████| 211/211 [00:00<00:00, 404.18it/s]\n",
            "Train epoch 9: 100%|██████████| 211/211 [00:00<00:00, 403.87it/s]\n",
            "Train epoch 10: 100%|██████████| 211/211 [00:05<00:00, 40.64it/s]\n",
            "Train epoch 11: 100%|██████████| 211/211 [00:05<00:00, 40.71it/s]\n",
            "Train epoch 12: 100%|██████████| 211/211 [00:05<00:00, 40.16it/s]\n",
            "Train epoch 13: 100%|██████████| 211/211 [00:05<00:00, 40.62it/s]\n"
          ]
        },
        {
          "output_type": "stream",
          "name": "stdout",
          "text": [
            "Final Test: loss 0.59 acc 84.7\n"
          ]
        },
        {
          "output_type": "stream",
          "name": "stderr",
          "text": [
            "Train epoch 1: 100%|██████████| 211/211 [00:00<00:00, 399.90it/s]\n",
            "Train epoch 2: 100%|██████████| 211/211 [00:00<00:00, 401.71it/s]\n",
            "Train epoch 3: 100%|██████████| 211/211 [00:00<00:00, 400.41it/s]\n",
            "Train epoch 4: 100%|██████████| 211/211 [00:00<00:00, 398.31it/s]\n",
            "Train epoch 5: 100%|██████████| 211/211 [00:00<00:00, 390.70it/s]\n",
            "Train epoch 6: 100%|██████████| 211/211 [00:00<00:00, 391.95it/s]\n",
            "Train epoch 7: 100%|██████████| 211/211 [00:00<00:00, 400.38it/s]\n",
            "Train epoch 8: 100%|██████████| 211/211 [00:00<00:00, 403.18it/s]\n",
            "Train epoch 9: 100%|██████████| 211/211 [00:00<00:00, 400.49it/s]\n",
            "Train epoch 10: 100%|██████████| 211/211 [00:05<00:00, 40.56it/s]\n",
            "Train epoch 11: 100%|██████████| 211/211 [00:05<00:00, 40.55it/s]\n",
            "Train epoch 12: 100%|██████████| 211/211 [00:05<00:00, 40.54it/s]\n",
            "Train epoch 13: 100%|██████████| 211/211 [00:05<00:00, 40.17it/s]\n"
          ]
        },
        {
          "output_type": "stream",
          "name": "stdout",
          "text": [
            "Final Test: loss 0.59 acc 84.4\n"
          ]
        },
        {
          "output_type": "stream",
          "name": "stderr",
          "text": [
            "Train epoch 1: 100%|██████████| 211/211 [00:00<00:00, 390.30it/s]\n",
            "Train epoch 2: 100%|██████████| 211/211 [00:00<00:00, 400.49it/s]\n",
            "Train epoch 3: 100%|██████████| 211/211 [00:00<00:00, 409.31it/s]\n",
            "Train epoch 4: 100%|██████████| 211/211 [00:00<00:00, 418.34it/s]\n",
            "Train epoch 5: 100%|██████████| 211/211 [00:00<00:00, 401.22it/s]\n",
            "Train epoch 6: 100%|██████████| 211/211 [00:00<00:00, 404.52it/s]\n",
            "Train epoch 7: 100%|██████████| 211/211 [00:00<00:00, 377.32it/s]\n",
            "Train epoch 8: 100%|██████████| 211/211 [00:00<00:00, 405.26it/s]\n",
            "Train epoch 9: 100%|██████████| 211/211 [00:00<00:00, 395.31it/s]\n",
            "Train epoch 10: 100%|██████████| 211/211 [00:05<00:00, 40.35it/s]\n",
            "Train epoch 11: 100%|██████████| 211/211 [00:05<00:00, 40.75it/s]\n",
            "Train epoch 12: 100%|██████████| 211/211 [00:05<00:00, 39.95it/s]\n",
            "Train epoch 13: 100%|██████████| 211/211 [00:05<00:00, 40.62it/s]\n"
          ]
        },
        {
          "output_type": "stream",
          "name": "stdout",
          "text": [
            "Final Test: loss 0.60 acc 84.6\n"
          ]
        },
        {
          "output_type": "stream",
          "name": "stderr",
          "text": [
            "Train epoch 1: 100%|██████████| 211/211 [00:00<00:00, 391.15it/s]\n",
            "Train epoch 2: 100%|██████████| 211/211 [00:00<00:00, 396.07it/s]\n",
            "Train epoch 3: 100%|██████████| 211/211 [00:00<00:00, 389.44it/s]\n",
            "Train epoch 4: 100%|██████████| 211/211 [00:00<00:00, 397.86it/s]\n",
            "Train epoch 5: 100%|██████████| 211/211 [00:00<00:00, 404.83it/s]\n",
            "Train epoch 6: 100%|██████████| 211/211 [00:00<00:00, 397.02it/s]\n",
            "Train epoch 7: 100%|██████████| 211/211 [00:00<00:00, 404.93it/s]\n",
            "Train epoch 8: 100%|██████████| 211/211 [00:00<00:00, 387.11it/s]\n",
            "Train epoch 9: 100%|██████████| 211/211 [00:00<00:00, 404.68it/s]\n",
            "Train epoch 10: 100%|██████████| 211/211 [00:05<00:00, 40.10it/s]\n",
            "Train epoch 11: 100%|██████████| 211/211 [00:05<00:00, 40.22it/s]\n",
            "Train epoch 12: 100%|██████████| 211/211 [00:05<00:00, 40.53it/s]\n",
            "Train epoch 13: 100%|██████████| 211/211 [00:05<00:00, 40.17it/s]\n"
          ]
        },
        {
          "output_type": "stream",
          "name": "stdout",
          "text": [
            "Final Test: loss 0.62 acc 84.5\n"
          ]
        },
        {
          "output_type": "stream",
          "name": "stderr",
          "text": [
            "Train epoch 1: 100%|██████████| 211/211 [00:00<00:00, 397.77it/s]\n",
            "Train epoch 2: 100%|██████████| 211/211 [00:00<00:00, 396.94it/s]\n",
            "Train epoch 3: 100%|██████████| 211/211 [00:00<00:00, 401.78it/s]\n",
            "Train epoch 4: 100%|██████████| 211/211 [00:00<00:00, 399.77it/s]\n",
            "Train epoch 5: 100%|██████████| 211/211 [00:00<00:00, 403.03it/s]\n",
            "Train epoch 6: 100%|██████████| 211/211 [00:00<00:00, 403.40it/s]\n",
            "Train epoch 7: 100%|██████████| 211/211 [00:00<00:00, 402.48it/s]\n",
            "Train epoch 8: 100%|██████████| 211/211 [00:00<00:00, 397.62it/s]\n",
            "Train epoch 9: 100%|██████████| 211/211 [00:00<00:00, 399.19it/s]\n",
            "Train epoch 10: 100%|██████████| 211/211 [00:05<00:00, 40.30it/s]\n",
            "Train epoch 11: 100%|██████████| 211/211 [00:05<00:00, 40.46it/s]\n",
            "Train epoch 12: 100%|██████████| 211/211 [00:05<00:00, 40.80it/s]\n",
            "Train epoch 13: 100%|██████████| 211/211 [00:05<00:00, 40.70it/s]\n"
          ]
        },
        {
          "output_type": "stream",
          "name": "stdout",
          "text": [
            "Final Test: loss 0.60 acc 84.5\n"
          ]
        },
        {
          "output_type": "stream",
          "name": "stderr",
          "text": [
            "Train epoch 1: 100%|██████████| 211/211 [00:00<00:00, 381.06it/s]\n",
            "Train epoch 2: 100%|██████████| 211/211 [00:00<00:00, 391.26it/s]\n",
            "Train epoch 3: 100%|██████████| 211/211 [00:00<00:00, 382.59it/s]\n",
            "Train epoch 4: 100%|██████████| 211/211 [00:00<00:00, 394.88it/s]\n",
            "Train epoch 5: 100%|██████████| 211/211 [00:00<00:00, 381.09it/s]\n",
            "Train epoch 6: 100%|██████████| 211/211 [00:00<00:00, 401.87it/s]\n",
            "Train epoch 7: 100%|██████████| 211/211 [00:00<00:00, 410.61it/s]\n",
            "Train epoch 8: 100%|██████████| 211/211 [00:00<00:00, 406.23it/s]\n",
            "Train epoch 9: 100%|██████████| 211/211 [00:00<00:00, 406.73it/s]\n",
            "Train epoch 10: 100%|██████████| 211/211 [00:05<00:00, 40.43it/s]\n",
            "Train epoch 11: 100%|██████████| 211/211 [00:05<00:00, 40.38it/s]\n",
            "Train epoch 12: 100%|██████████| 211/211 [00:05<00:00, 40.66it/s]\n",
            "Train epoch 13: 100%|██████████| 211/211 [00:05<00:00, 40.63it/s]\n"
          ]
        },
        {
          "output_type": "stream",
          "name": "stdout",
          "text": [
            "Final Test: loss 0.62 acc 84.3\n"
          ]
        },
        {
          "output_type": "stream",
          "name": "stderr",
          "text": [
            "Train epoch 1: 100%|██████████| 211/211 [00:00<00:00, 392.33it/s]\n",
            "Train epoch 2: 100%|██████████| 211/211 [00:00<00:00, 400.44it/s]\n",
            "Train epoch 3: 100%|██████████| 211/211 [00:00<00:00, 402.04it/s]\n",
            "Train epoch 4: 100%|██████████| 211/211 [00:00<00:00, 402.24it/s]\n",
            "Train epoch 5: 100%|██████████| 211/211 [00:00<00:00, 402.86it/s]\n",
            "Train epoch 6: 100%|██████████| 211/211 [00:00<00:00, 401.35it/s]\n",
            "Train epoch 7: 100%|██████████| 211/211 [00:00<00:00, 410.09it/s]\n",
            "Train epoch 8: 100%|██████████| 211/211 [00:00<00:00, 392.79it/s]\n",
            "Train epoch 9: 100%|██████████| 211/211 [00:00<00:00, 400.14it/s]\n",
            "Train epoch 10: 100%|██████████| 211/211 [00:05<00:00, 40.22it/s]\n",
            "Train epoch 11: 100%|██████████| 211/211 [00:05<00:00, 40.79it/s]\n",
            "Train epoch 12: 100%|██████████| 211/211 [00:05<00:00, 40.27it/s]\n",
            "Train epoch 13: 100%|██████████| 211/211 [00:05<00:00, 40.77it/s]\n"
          ]
        },
        {
          "output_type": "stream",
          "name": "stdout",
          "text": [
            "Final Test: loss 0.61 acc 84.6\n"
          ]
        },
        {
          "output_type": "stream",
          "name": "stderr",
          "text": [
            "Train epoch 1: 100%|██████████| 211/211 [00:00<00:00, 387.91it/s]\n",
            "Train epoch 2: 100%|██████████| 211/211 [00:00<00:00, 406.17it/s]\n",
            "Train epoch 3: 100%|██████████| 211/211 [00:00<00:00, 393.52it/s]\n",
            "Train epoch 4: 100%|██████████| 211/211 [00:00<00:00, 406.41it/s]\n",
            "Train epoch 5: 100%|██████████| 211/211 [00:00<00:00, 406.42it/s]\n",
            "Train epoch 6: 100%|██████████| 211/211 [00:00<00:00, 405.38it/s]\n",
            "Train epoch 7: 100%|██████████| 211/211 [00:00<00:00, 401.26it/s]\n",
            "Train epoch 8: 100%|██████████| 211/211 [00:00<00:00, 401.18it/s]\n",
            "Train epoch 9: 100%|██████████| 211/211 [00:00<00:00, 398.11it/s]\n",
            "Train epoch 10: 100%|██████████| 211/211 [00:05<00:00, 40.37it/s]\n",
            "Train epoch 11: 100%|██████████| 211/211 [00:05<00:00, 39.82it/s]\n",
            "Train epoch 12: 100%|██████████| 211/211 [00:05<00:00, 40.18it/s]\n",
            "Train epoch 13: 100%|██████████| 211/211 [00:05<00:00, 39.60it/s]\n"
          ]
        },
        {
          "output_type": "stream",
          "name": "stdout",
          "text": [
            "Final Test: loss 0.66 acc 75.3\n"
          ]
        },
        {
          "output_type": "stream",
          "name": "stderr",
          "text": [
            "Train epoch 1: 100%|██████████| 211/211 [00:00<00:00, 399.31it/s]\n",
            "Train epoch 2: 100%|██████████| 211/211 [00:00<00:00, 395.02it/s]\n",
            "Train epoch 3: 100%|██████████| 211/211 [00:00<00:00, 400.20it/s]\n",
            "Train epoch 4: 100%|██████████| 211/211 [00:00<00:00, 394.11it/s]\n",
            "Train epoch 5: 100%|██████████| 211/211 [00:00<00:00, 398.53it/s]\n",
            "Train epoch 6: 100%|██████████| 211/211 [00:00<00:00, 400.29it/s]\n",
            "Train epoch 7: 100%|██████████| 211/211 [00:00<00:00, 404.19it/s]\n",
            "Train epoch 8: 100%|██████████| 211/211 [00:00<00:00, 395.99it/s]\n",
            "Train epoch 9: 100%|██████████| 211/211 [00:00<00:00, 401.55it/s]\n",
            "Train epoch 10: 100%|██████████| 211/211 [00:05<00:00, 39.99it/s]\n",
            "Train epoch 11: 100%|██████████| 211/211 [00:05<00:00, 40.19it/s]\n",
            "Train epoch 12: 100%|██████████| 211/211 [00:05<00:00, 40.33it/s]\n",
            "Train epoch 13: 100%|██████████| 211/211 [00:05<00:00, 40.12it/s]\n"
          ]
        },
        {
          "output_type": "stream",
          "name": "stdout",
          "text": [
            "Final Test: loss 0.64 acc 78.6\n"
          ]
        },
        {
          "output_type": "stream",
          "name": "stderr",
          "text": [
            "Train epoch 1: 100%|██████████| 211/211 [00:00<00:00, 386.22it/s]\n",
            "Train epoch 2: 100%|██████████| 211/211 [00:00<00:00, 386.79it/s]\n",
            "Train epoch 3: 100%|██████████| 211/211 [00:00<00:00, 394.27it/s]\n",
            "Train epoch 4: 100%|██████████| 211/211 [00:00<00:00, 398.62it/s]\n",
            "Train epoch 5: 100%|██████████| 211/211 [00:00<00:00, 394.34it/s]\n",
            "Train epoch 6: 100%|██████████| 211/211 [00:00<00:00, 398.39it/s]\n",
            "Train epoch 7: 100%|██████████| 211/211 [00:00<00:00, 396.69it/s]\n",
            "Train epoch 8: 100%|██████████| 211/211 [00:00<00:00, 398.21it/s]\n",
            "Train epoch 9: 100%|██████████| 211/211 [00:00<00:00, 387.36it/s]\n",
            "Train epoch 10: 100%|██████████| 211/211 [00:05<00:00, 40.33it/s]\n",
            "Train epoch 11: 100%|██████████| 211/211 [00:05<00:00, 40.20it/s]\n",
            "Train epoch 12: 100%|██████████| 211/211 [00:05<00:00, 39.97it/s]\n",
            "Train epoch 13: 100%|██████████| 211/211 [00:05<00:00, 40.64it/s]\n"
          ]
        },
        {
          "output_type": "stream",
          "name": "stdout",
          "text": [
            "Final Test: loss 0.64 acc 78.9\n"
          ]
        },
        {
          "output_type": "stream",
          "name": "stderr",
          "text": [
            "Train epoch 1: 100%|██████████| 211/211 [00:00<00:00, 401.70it/s]\n",
            "Train epoch 2: 100%|██████████| 211/211 [00:00<00:00, 399.04it/s]\n",
            "Train epoch 3: 100%|██████████| 211/211 [00:00<00:00, 402.65it/s]\n",
            "Train epoch 4: 100%|██████████| 211/211 [00:00<00:00, 402.23it/s]\n",
            "Train epoch 5: 100%|██████████| 211/211 [00:00<00:00, 398.81it/s]\n",
            "Train epoch 6: 100%|██████████| 211/211 [00:00<00:00, 399.67it/s]\n",
            "Train epoch 7: 100%|██████████| 211/211 [00:00<00:00, 406.70it/s]\n",
            "Train epoch 8: 100%|██████████| 211/211 [00:00<00:00, 392.82it/s]\n",
            "Train epoch 9: 100%|██████████| 211/211 [00:00<00:00, 391.51it/s]\n",
            "Train epoch 10: 100%|██████████| 211/211 [00:05<00:00, 40.45it/s]\n",
            "Train epoch 11: 100%|██████████| 211/211 [00:05<00:00, 40.30it/s]\n",
            "Train epoch 12: 100%|██████████| 211/211 [00:09<00:00, 22.07it/s]\n",
            "Train epoch 13: 100%|██████████| 211/211 [00:06<00:00, 31.69it/s]\n"
          ]
        },
        {
          "output_type": "stream",
          "name": "stdout",
          "text": [
            "Final Test: loss 0.66 acc 75.7\n"
          ]
        },
        {
          "output_type": "stream",
          "name": "stderr",
          "text": [
            "Train epoch 1: 100%|██████████| 211/211 [00:00<00:00, 400.10it/s]\n",
            "Train epoch 2: 100%|██████████| 211/211 [00:00<00:00, 400.71it/s]\n",
            "Train epoch 3: 100%|██████████| 211/211 [00:00<00:00, 403.94it/s]\n",
            "Train epoch 4: 100%|██████████| 211/211 [00:00<00:00, 411.38it/s]\n",
            "Train epoch 5: 100%|██████████| 211/211 [00:00<00:00, 394.82it/s]\n",
            "Train epoch 6: 100%|██████████| 211/211 [00:00<00:00, 407.48it/s]\n",
            "Train epoch 7: 100%|██████████| 211/211 [00:00<00:00, 409.96it/s]\n",
            "Train epoch 8: 100%|██████████| 211/211 [00:00<00:00, 376.74it/s]\n",
            "Train epoch 9: 100%|██████████| 211/211 [00:00<00:00, 396.07it/s]\n",
            "Train epoch 10: 100%|██████████| 211/211 [00:05<00:00, 40.23it/s]\n",
            "Train epoch 11: 100%|██████████| 211/211 [00:05<00:00, 40.51it/s]\n",
            "Train epoch 12: 100%|██████████| 211/211 [00:05<00:00, 40.07it/s]\n",
            "Train epoch 13: 100%|██████████| 211/211 [00:05<00:00, 40.53it/s]\n"
          ]
        },
        {
          "output_type": "stream",
          "name": "stdout",
          "text": [
            "Final Test: loss 0.66 acc 75.9\n"
          ]
        },
        {
          "output_type": "stream",
          "name": "stderr",
          "text": [
            "Train epoch 1: 100%|██████████| 211/211 [00:00<00:00, 397.56it/s]\n",
            "Train epoch 2: 100%|██████████| 211/211 [00:00<00:00, 399.29it/s]\n",
            "Train epoch 3: 100%|██████████| 211/211 [00:00<00:00, 402.52it/s]\n",
            "Train epoch 4: 100%|██████████| 211/211 [00:00<00:00, 393.80it/s]\n",
            "Train epoch 5: 100%|██████████| 211/211 [00:00<00:00, 411.41it/s]\n",
            "Train epoch 6: 100%|██████████| 211/211 [00:00<00:00, 401.24it/s]\n",
            "Train epoch 7: 100%|██████████| 211/211 [00:00<00:00, 394.22it/s]\n",
            "Train epoch 8: 100%|██████████| 211/211 [00:00<00:00, 399.77it/s]\n",
            "Train epoch 9: 100%|██████████| 211/211 [00:00<00:00, 402.38it/s]\n",
            "Train epoch 10: 100%|██████████| 211/211 [00:05<00:00, 39.81it/s]\n",
            "Train epoch 11: 100%|██████████| 211/211 [00:06<00:00, 34.81it/s]\n",
            "Train epoch 12: 100%|██████████| 211/211 [00:05<00:00, 40.21it/s]\n",
            "Train epoch 13: 100%|██████████| 211/211 [00:05<00:00, 40.22it/s]\n"
          ]
        },
        {
          "output_type": "stream",
          "name": "stdout",
          "text": [
            "Final Test: loss 0.68 acc 68.8\n"
          ]
        },
        {
          "output_type": "stream",
          "name": "stderr",
          "text": [
            "Train epoch 1: 100%|██████████| 211/211 [00:00<00:00, 398.66it/s]\n",
            "Train epoch 2: 100%|██████████| 211/211 [00:00<00:00, 394.01it/s]\n",
            "Train epoch 3: 100%|██████████| 211/211 [00:00<00:00, 402.28it/s]\n",
            "Train epoch 4: 100%|██████████| 211/211 [00:00<00:00, 406.92it/s]\n",
            "Train epoch 5: 100%|██████████| 211/211 [00:00<00:00, 390.30it/s]\n",
            "Train epoch 6: 100%|██████████| 211/211 [00:00<00:00, 399.14it/s]\n",
            "Train epoch 7: 100%|██████████| 211/211 [00:00<00:00, 387.22it/s]\n",
            "Train epoch 8: 100%|██████████| 211/211 [00:00<00:00, 398.29it/s]\n",
            "Train epoch 9: 100%|██████████| 211/211 [00:00<00:00, 399.73it/s]\n",
            "Train epoch 10: 100%|██████████| 211/211 [00:05<00:00, 40.48it/s]\n",
            "Train epoch 11: 100%|██████████| 211/211 [00:05<00:00, 39.46it/s]\n",
            "Train epoch 12: 100%|██████████| 211/211 [00:05<00:00, 40.58it/s]\n",
            "Train epoch 13: 100%|██████████| 211/211 [00:05<00:00, 40.26it/s]\n"
          ]
        },
        {
          "output_type": "stream",
          "name": "stdout",
          "text": [
            "Final Test: loss 0.68 acc 68.8\n"
          ]
        }
      ]
    },
    {
      "cell_type": "code",
      "source": [
        "a=np.vstack((np.array(errors), np.array(biases))).T"
      ],
      "metadata": {
        "id": "DHkfL5rMcaRW"
      },
      "execution_count": null,
      "outputs": []
    },
    {
      "cell_type": "code",
      "source": [
        "# Plotting pareto front\n",
        "def is_pareto_efficient(costs):\n",
        "    is_efficient = np.ones(costs.shape[0], dtype = bool)\n",
        "    for i, c in enumerate(costs):\n",
        "        if is_efficient[i]:\n",
        "            is_efficient[is_efficient] = np.any(costs[is_efficient]<c, axis=1)\n",
        "            is_efficient[i] = True \n",
        "    return is_efficient\n",
        "\n",
        "b=is_pareto_efficient(a)\n",
        "my_filter = np.array(b)\n",
        "b=a[my_filter]\n",
        "\n",
        "import matplotlib.pyplot as plt\n",
        "plt.scatter(b[:, 0], b[:, 1])\n",
        "plt.show()"
      ],
      "metadata": {
        "id": "0oTo-DReV3uM",
        "colab": {
          "base_uri": "https://localhost:8080/",
          "height": 265
        },
        "outputId": "f001ef43-1258-4908-efd6-a58dfe478461"
      },
      "execution_count": null,
      "outputs": [
        {
          "output_type": "display_data",
          "data": {
            "text/plain": [
              "<Figure size 432x288 with 1 Axes>"
            ],
            "image/png": "[encoded data removed]"
          },
          "metadata": {
            "needs_background": "light"
          }
        }
      ]
    },
    {
      "cell_type": "markdown",
      "source": [
        "# Comparison Analysis"
      ],
      "metadata": {
        "id": "rRKdahV_xGlr"
      }
    },
    {
      "cell_type": "markdown",
      "source": [
        "The comparison analysis that we mention in our report has been done in different notebooks to avoid clutter\n",
        "\n",
        "Competetor1 = https://colab.research.google.com/drive/1kITiT7hfA0RYd8q5l35M6FjggBYVtnaE?usp=sharing\n",
        "\n",
        "Competetor 2 and 3 = https://colab.research.google.com/drive/19V2BcWgsL63wYFhrRG42b7ZvPZ4Yp4SM?usp=sharing"
      ],
      "metadata": {
        "id": "KEk2rvYvvIRo"
      }
    }
  ]
}